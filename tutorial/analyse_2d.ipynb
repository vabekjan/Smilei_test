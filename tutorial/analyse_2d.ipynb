{
 "cells": [
  {
   "cell_type": "code",
   "execution_count": null,
   "id": "4572f134-2534-458b-a97d-63b38dbf4178",
   "metadata": {},
   "outputs": [],
   "source": [
    "%matplotlib widget\n",
    "import matplotlib\n",
    "matplotlib.rcParams['animation.embed_limit'] = 200.\n",
    "\n",
    "## python modules used within this notebook\n",
    "import numpy as np\n",
    "import matplotlib.pyplot as plt\n",
    "import happi\n",
    "from IPython.display import display\n",
    "from matplotlib.pyplot import *\n",
    "\n",
    "\n",
    "# plt.rcParams['animation.embed_limit'] = 200.\n",
    "# %matplotlib inline"
   ]
  },
  {
   "cell_type": "code",
   "execution_count": null,
   "id": "5e45e629-3a77-4be1-b14c-cbad74c4568a",
   "metadata": {},
   "outputs": [],
   "source": [
    "path = \"../work_dir/tuto1\""
   ]
  },
  {
   "cell_type": "code",
   "execution_count": null,
   "id": "cff77c55-7e34-487b-9148-eeed51f403e7",
   "metadata": {},
   "outputs": [],
   "source": [
    "# open Smilei results\n",
    "S = happi.Open(path, verbose=False)"
   ]
  },
  {
   "cell_type": "code",
   "execution_count": null,
   "id": "c4357b2b-d51b-4321-a45b-6673e8b20a90",
   "metadata": {},
   "outputs": [],
   "source": [
    "diag = S.Scalar('Uelm')\n",
    "diag.plot()"
   ]
  },
  {
   "cell_type": "code",
   "execution_count": null,
   "id": "928f4287-0fd5-43f1-b4d2-3dd884e059e6",
   "metadata": {},
   "outputs": [],
   "source": [
    "happi.multiPlot(\n",
    "    S.Scalar('Utot', label=\"Total energy\"),\n",
    "    S.Scalar('Ubal', label=\"Balance\")\n",
    "    )"
   ]
  },
  {
   "cell_type": "code",
   "execution_count": null,
   "id": "c8756880-a332-419f-a421-30c7e2bdf8e3",
   "metadata": {},
   "outputs": [],
   "source": [
    "diag = S.Field(0, \"Ey\")\n",
    "ani=diag.slide(vsym=1)"
   ]
  },
  {
   "cell_type": "code",
   "execution_count": null,
   "id": "9fb6af79-cf2e-42e9-acb6-e30427133978",
   "metadata": {},
   "outputs": [],
   "source": [
    "S.Field(0, \"Ey**2+Ez**2\", average={\"x\":[0,7],\"y\":100}).plot()"
   ]
  },
  {
   "cell_type": "code",
   "execution_count": null,
   "id": "cd6a76a6-8dea-46de-b0a8-f8976ba400b5",
   "metadata": {},
   "outputs": [],
   "source": [
    "laser = S.namelist.Laser[0]\n",
    "from numpy import array, arange\n",
    "tstop = S.namelist.Main.simulation_time # simulation final time\n",
    "tstep = S.namelist.Main.timestep        # simulation timestep\n",
    "times = arange(0., tstop, tstep)\n",
    "laser_profile = array([laser.time_envelope(t) for t in times])\n",
    "\n",
    "%matplotlib inline\n",
    "\n",
    "fig0 = figure()\n",
    "gs = GridSpec(2, 3)\n",
    "ax0 = subplot(gs[:,:])\n",
    "ax0.plot( times+5, laser_profile**2 / 2 )\n",
    "\n",
    "print(times)"
   ]
  },
  {
   "cell_type": "code",
   "execution_count": null,
   "id": "ee7b39e5-929b-4ca2-b22b-67e15cc7aed9",
   "metadata": {},
   "outputs": [],
   "source": []
  }
 ],
 "metadata": {
  "kernelspec": {
   "display_name": "Python 3 (ipykernel)",
   "language": "python",
   "name": "python3"
  },
  "language_info": {
   "codemirror_mode": {
    "name": "ipython",
    "version": 3
   },
   "file_extension": ".py",
   "mimetype": "text/x-python",
   "name": "python",
   "nbconvert_exporter": "python",
   "pygments_lexer": "ipython3",
   "version": "3.10.12"
  }
 },
 "nbformat": 4,
 "nbformat_minor": 5
}
