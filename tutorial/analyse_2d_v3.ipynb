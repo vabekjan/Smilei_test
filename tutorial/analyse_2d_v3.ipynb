{
 "cells": [
  {
   "cell_type": "code",
   "execution_count": null,
   "id": "4572f134-2534-458b-a97d-63b38dbf4178",
   "metadata": {},
   "outputs": [],
   "source": [
    "%matplotlib inline\n",
    "\n",
    "import matplotlib as mpl\n",
    "mpl.rcParams['animation.html'] = 'jshtml'\n",
    "mpl.rcParams['animation.embed_limit'] = 200.0\n",
    "\n",
    "import numpy as np\n",
    "import matplotlib.pyplot as plt\n",
    "from matplotlib.animation import FuncAnimation\n",
    "from IPython.display import HTML, display\n",
    "import happi\n",
    "\n",
    "# -------- helpers\n",
    "def to_array(x):\n",
    "    \"\"\"Coerce happi outputs (lists/object arrays) to a numeric numpy array.\"\"\"\n",
    "    a = np.asarray(x)\n",
    "    if a.dtype == object:\n",
    "        try:\n",
    "            a = np.array(x, dtype=float)\n",
    "        except Exception:\n",
    "            a = np.array([np.asarray(e, dtype=float) for e in x], dtype=float)\n",
    "    return a\n",
    "\n",
    "def safe_axis(diag, name, n_fallback):\n",
    "    try:\n",
    "        v = to_array(diag.getAxis(name))\n",
    "        if v.ndim == 0:  # scalar? fall back\n",
    "            raise ValueError\n",
    "        return v\n",
    "    except Exception:\n",
    "        return np.arange(n_fallback)\n",
    "\n",
    "# -------- load data\n",
    "# path = \"../work_dir/tuto1\"\n",
    "path = \"../work_dir/off/2D/t1\"\n",
    "field_component = \"Bz\"\n",
    "\n",
    "S = happi.Open(path, verbose=False)\n",
    "diag = S.Field(0, field_component)\n",
    "\n",
    "ts = np.array(diag.getTimesteps()).tolist()\n",
    "if len(ts) == 0:\n",
    "    raise RuntimeError(\"No timesteps found in this Field diagnostic.\")\n",
    "\n",
    "# Subsample to ~100 frames for snappy playback\n",
    "step = max(1, len(ts) // 100)\n",
    "ts = ts[::step]\n",
    "\n",
    "# First frame\n",
    "frame0 = to_array(diag.getData(timestep=ts[0]))\n",
    "if frame0 is None:\n",
    "    raise RuntimeError(\"getData() returned None. Check the path/diagnostic.\")\n",
    "\n",
    "# If >2D (rare), pick the first slice\n",
    "if frame0.ndim > 2:\n",
    "    frame0 = frame0[0]\n",
    "\n",
    "fig, ax = plt.subplots(figsize=(6, 4))\n",
    "\n",
    "if frame0.ndim == 2:\n",
    "    ny, nx = frame0.shape\n",
    "    x = safe_axis(diag, \"x\", nx)\n",
    "    y = safe_axis(diag, \"y\", ny)\n",
    "    extent = [x.min(), x.max(), y.min(), y.max()]\n",
    "\n",
    "    im = ax.imshow(frame0, origin=\"lower\", aspect=\"auto\", extent=extent, interpolation=\"nearest\")\n",
    "    cbar = fig.colorbar(im, ax=ax); cbar.set_label(field_component)\n",
    "\n",
    "    def update(i):\n",
    "        arr = to_array(diag.getData(timestep=ts[i]))\n",
    "        if arr.ndim > 2:\n",
    "            arr = arr[0]\n",
    "        im.set_data(arr)\n",
    "        return (im,)\n",
    "\n",
    "elif frame0.ndim == 1:\n",
    "    nx = frame0.shape[0]\n",
    "    x = safe_axis(diag, \"x\", nx)\n",
    "    (ln,) = ax.plot(x, frame0)\n",
    "    ax.set_xlabel(\"x\"); ax.set_ylabel(field_component)\n",
    "\n",
    "    def update(i):\n",
    "        ydata = to_array(diag.getData(timestep=ts[i]))\n",
    "        if ydata.ndim > 1:  # collapse if weird shape sneaks in\n",
    "            ydata = ydata.ravel()\n",
    "        ln.set_ydata(ydata)\n",
    "        return (ln,)\n",
    "\n",
    "else:\n",
    "    raise ValueError(f\"Unsupported data dim: {frame0.ndim}. Expected 1-D or 2-D.\")\n",
    "\n",
    "ax.set_title(field_component+f\" (frames: {len(ts)})\")\n",
    "fig.tight_layout()\n",
    "\n",
    "ani = FuncAnimation(fig, update, frames=len(ts), interval=50, blit=False)\n",
    "display(HTML(ani.to_jshtml()))\n",
    "plt.close(fig)"
   ]
  },
  {
   "cell_type": "code",
   "execution_count": null,
   "id": "5e45e629-3a77-4be1-b14c-cbad74c4568a",
   "metadata": {},
   "outputs": [],
   "source": [
    "path = \"../work_dir/tuto1\""
   ]
  },
  {
   "cell_type": "code",
   "execution_count": null,
   "id": "cff77c55-7e34-487b-9148-eeed51f403e7",
   "metadata": {},
   "outputs": [],
   "source": [
    "# open Smilei results\n",
    "S = happi.Open(path, verbose=False)"
   ]
  },
  {
   "cell_type": "code",
   "execution_count": null,
   "id": "c4357b2b-d51b-4321-a45b-6673e8b20a90",
   "metadata": {},
   "outputs": [],
   "source": [
    "diag = S.Scalar('Uelm')\n",
    "diag.plot()"
   ]
  },
  {
   "cell_type": "code",
   "execution_count": null,
   "id": "928f4287-0fd5-43f1-b4d2-3dd884e059e6",
   "metadata": {},
   "outputs": [],
   "source": [
    "happi.multiPlot(\n",
    "    S.Scalar('Utot', label=\"Total energy\"),\n",
    "    S.Scalar('Ubal', label=\"Balance\")\n",
    "    )"
   ]
  },
  {
   "cell_type": "code",
   "execution_count": null,
   "id": "c8756880-a332-419f-a421-30c7e2bdf8e3",
   "metadata": {},
   "outputs": [],
   "source": [
    "diag = S.Field(0, \"Ey\")\n",
    "ani=diag.slide(vsym=1)\n",
    "HTML(ani.to_jshtml())             # explicitly display it"
   ]
  },
  {
   "cell_type": "code",
   "execution_count": null,
   "id": "9fb6af79-cf2e-42e9-acb6-e30427133978",
   "metadata": {},
   "outputs": [],
   "source": [
    "S.Field(0, \"Ey**2+Ez**2\", average={\"x\":[0,7],\"y\":100}).plot()"
   ]
  },
  {
   "cell_type": "code",
   "execution_count": null,
   "id": "cd6a76a6-8dea-46de-b0a8-f8976ba400b5",
   "metadata": {},
   "outputs": [],
   "source": [
    "laser = S.namelist.Laser[0]\n",
    "from numpy import array, arange\n",
    "tstop = S.namelist.Main.simulation_time # simulation final time\n",
    "tstep = S.namelist.Main.timestep        # simulation timestep\n",
    "times = arange(0., tstop, tstep)\n",
    "laser_profile = array([laser.time_envelope(t) for t in times])\n",
    "\n",
    "%matplotlib inline\n",
    "\n",
    "fig0 = figure()\n",
    "gs = GridSpec(2, 3)\n",
    "ax0 = subplot(gs[:,:])\n",
    "ax0.plot( times+5, laser_profile**2 / 2 )\n",
    "\n",
    "print(times)"
   ]
  },
  {
   "cell_type": "code",
   "execution_count": null,
   "id": "ee7b39e5-929b-4ca2-b22b-67e15cc7aed9",
   "metadata": {},
   "outputs": [],
   "source": []
  }
 ],
 "metadata": {
  "kernelspec": {
   "display_name": "Python 3 (ipykernel)",
   "language": "python",
   "name": "python3"
  },
  "language_info": {
   "codemirror_mode": {
    "name": "ipython",
    "version": 3
   },
   "file_extension": ".py",
   "mimetype": "text/x-python",
   "name": "python",
   "nbconvert_exporter": "python",
   "pygments_lexer": "ipython3",
   "version": "3.10.12"
  }
 },
 "nbformat": 4,
 "nbformat_minor": 5
}
